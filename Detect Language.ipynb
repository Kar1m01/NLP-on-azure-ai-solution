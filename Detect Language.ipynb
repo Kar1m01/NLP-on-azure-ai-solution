{
 "cells": [
  {
   "cell_type": "markdown",
   "metadata": {},
   "source": [
    "- Azure Language Detection API identifies the language of text input and assigns a confidence score (0 to 1(1 being 100% confident)).\n",
    "- Useful for content stores with unknown language text or multilingual chatbots.\n",
    "- Supports documents or single phrases up to 5,120 characters per document.\n",
    "- Each request can contain up to 1,000 documents, each with a unique ID.\n",
    "- Optional `countryHint` can be included to improve language detection accuracy.\n",
    "- JSON payload example includes documents with `id`, `text`, and optionally, `countryHint`."
   ]
  },
  {
   "cell_type": "code",
   "execution_count": null,
   "metadata": {},
   "outputs": [],
   "source": [
    "{\n",
    "    \"kind\": \"LanguageDetection\",\n",
    "    \"parameters\": {\n",
    "        \"modelVersion\": \"latest\"\n",
    "    },\n",
    "    \"analysisInput\":{\n",
    "        \"documents\":[\n",
    "              {\n",
    "                \"id\": \"1\",\n",
    "                \"text\": \"Hello world\",\n",
    "                \"countryHint\": \"US\"\n",
    "              },\n",
    "              {\n",
    "                \"id\": \"2\",\n",
    "                \"text\": \"Bonjour tout le monde\"\n",
    "              }\n",
    "        ]\n",
    "    }\n",
    "}"
   ]
  },
  {
   "cell_type": "markdown",
   "metadata": {},
   "source": []
  }
 ],
 "metadata": {
  "kernelspec": {
   "display_name": "Python 3",
   "language": "python",
   "name": "python3"
  },
  "language_info": {
   "name": "python",
   "version": "3.11.9"
  }
 },
 "nbformat": 4,
 "nbformat_minor": 2
}
