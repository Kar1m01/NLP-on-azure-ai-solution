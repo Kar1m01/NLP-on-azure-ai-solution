{
 "cells": [
  {
   "cell_type": "markdown",
   "metadata": {},
   "source": [
    "Detecting language brief:\n",
    "\n",
    "- Azure Language Detection API identifies the language of text input and assigns a confidence score (0 to 1(1 being 100% confident)).\n",
    "- Useful for content stores with unknown language text or multilingual chatbots.\n",
    "- Supports documents or single phrases up to 5,120 characters per document.\n",
    "- Each request can contain up to 1,000 documents, each with a unique ID.\n",
    "- Optional `countryHint` can be included to improve language detection accuracy.\n",
    "- JSON payload example includes documents with `id`, `text`, and optionally, `countryHint`."
   ]
  },
  {
   "cell_type": "markdown",
   "metadata": {},
   "source": [
    "API Call (Code Sample 1)"
   ]
  },
  {
   "cell_type": "code",
   "execution_count": null,
   "metadata": {},
   "outputs": [],
   "source": [
    "#Code sample 1\n",
    "{\n",
    "    \"kind\": \"LanguageDetection\",\n",
    "    \"parameters\": {\n",
    "        \"modelVersion\": \"latest\"\n",
    "    },\n",
    "    \"analysisInput\":{\n",
    "        \"documents\":[\n",
    "              {\n",
    "                \"id\": \"1\",\n",
    "                \"text\": \"Hello world\",\n",
    "                \"countryHint\": \"US\"\n",
    "              },\n",
    "              {\n",
    "                \"id\": \"2\",\n",
    "                \"text\": \"Bonjour tout le monde\"\n",
    "              }\n",
    "        ]\n",
    "    }\n",
    "}"
   ]
  },
  {
   "cell_type": "markdown",
   "metadata": {},
   "source": [
    "Received this JSON code (Code Sample 2)\n"
   ]
  },
  {
   "cell_type": "code",
   "execution_count": null,
   "metadata": {},
   "outputs": [],
   "source": [
    "#Code Sample 2\n",
    "{   \"kind\": \"LanguageDetectionResults\",\n",
    "    \"results\": {\n",
    "        \"documents\": [\n",
    "          {\n",
    "            \"detectedLanguage\": {\n",
    "              \"confidenceScore\": 1,\n",
    "              \"iso6391Name\": \"en\",\n",
    "              \"name\": \"English\"\n",
    "            },\n",
    "            \"id\": \"1\",\n",
    "            \"warnings\": []\n",
    "          },\n",
    "          {\n",
    "            \"detectedLanguage\": {\n",
    "              \"confidenceScore\": 1,\n",
    "              \"iso6391Name\": \"fr\",\n",
    "              \"name\": \"French\"\n",
    "            },\n",
    "            \"id\": \"2\",\n",
    "            \"warnings\": []\n",
    "          }\n",
    "        ],\n",
    "        \"errors\": [],\n",
    "        \"modelVersion\": \"2022-10-01\"\n",
    "    }\n",
    "}"
   ]
  },
  {
   "cell_type": "markdown",
   "metadata": {},
   "source": [
    "In this sample code, the confidence level is 100% because the text is straightforward (EN-FR). However, if we try to pass a multilingual text, the confidence level will  decrease because it includes content in English, Spanish and French in the same sentence.(Code Sample 3)"
   ]
  },
  {
   "cell_type": "code",
   "execution_count": null,
   "metadata": {},
   "outputs": [],
   "source": [
    "#Code Sample 3\n",
    "{\n",
    "  \"documents\": [\n",
    "    {\n",
    "      \"id\": \"1\",\n",
    "      \"text\": \"Hello, I would like to take a class at your University. ¿Se ofrecen clases en español? Es mi primera lengua y más fácil para escribir. Que diriez-vous des cours en français?\"\n",
    "    }\n",
    "  ]\n",
    "}"
   ]
  },
  {
   "cell_type": "markdown",
   "metadata": {},
   "source": [
    "JSON Response (Code Sample 4)\n",
    "\n",
    "The confidence score is 0.9375 which is still relatively high but not yet 100%."
   ]
  },
  {
   "cell_type": "code",
   "execution_count": null,
   "metadata": {},
   "outputs": [],
   "source": [
    "{\n",
    "    \"documents\": [\n",
    "        {\n",
    "            \"id\": \"1\",\n",
    "            \"detectedLanguage\": {\n",
    "                \"name\": \"Spanish\",\n",
    "                \"iso6391Name\": \"es\",\n",
    "                \"confidenceScore\": 0.9375\n",
    "            },\n",
    "            \"warnings\": []\n",
    "        }\n",
    "    ],\n",
    "    \"errors\": [],\n",
    "    \"modelVersion\": \"2022-10-01\"\n",
    "}"
   ]
  }
 ],
 "metadata": {
  "kernelspec": {
   "display_name": "Python 3",
   "language": "python",
   "name": "python3"
  },
  "language_info": {
   "name": "python",
   "version": "3.11.9"
  }
 },
 "nbformat": 4,
 "nbformat_minor": 2
}
