{
 "cells": [
  {
   "cell_type": "markdown",
   "metadata": {},
   "source": [
    "Key phrase extraction is the process of evaluating the text of a document, or documents, and then identifying the main points around the context of the document(s).\n",
    "\n",
    "Key phrase extraction works best for larger documents (the maximum size that can be analyzed is 5,120 characters).\n",
    "\n",
    "As with language detection, the REST interface enables you to submit one or more documents for analysis. (Code Sample 1)"
   ]
  },
  {
   "cell_type": "code",
   "execution_count": null,
   "metadata": {},
   "outputs": [],
   "source": [
    "# Code Sample 1\n",
    "\n",
    "{\n",
    "    \"kind\": \"KeyPhraseExtraction\",\n",
    "    \"parameters\": {\n",
    "        \"modelVersion\": \"latest\"\n",
    "    },\n",
    "    \"analysisInput\":{\n",
    "        \"documents\":[\n",
    "            {\n",
    "              \"id\": \"1\",\n",
    "              \"language\": \"en\",\n",
    "              \"text\": \"You must be the change you to see in the world.\"\n",
    "            },\n",
    "            {\n",
    "              \"id\": \"2\",\n",
    "              \"language\": \"en\",\n",
    "              \"text\": \"The journey of a thousand miles begins with a single step.\"\n",
    "            }\n",
    "        ]\n",
    "    }\n",
    "}"
   ]
  },
  {
   "cell_type": "markdown",
   "metadata": {},
   "source": [
    "The response contains a list of key phrases detected in each document:\n",
    "\n"
   ]
  },
  {
   "cell_type": "code",
   "execution_count": null,
   "metadata": {},
   "outputs": [],
   "source": [
    "{\n",
    "    \"kind\": \"KeyPhraseExtractionResults\",\n",
    "    \"results\": {\n",
    "    \"documents\": [   \n",
    "        {\n",
    "         \"id\": \"1\",\n",
    "         \"keyPhrases\": [\n",
    "           \"change\",\n",
    "           \"world\"\n",
    "         ],\n",
    "         \"warnings\": []\n",
    "       },\n",
    "       {\n",
    "         \"id\": \"2\",\n",
    "         \"keyPhrases\": [\n",
    "           \"miles\",\n",
    "           \"single step\",\n",
    "           \"journey\"\n",
    "         ],\n",
    "         \"warnings\": []\n",
    "       }\n",
    "],\n",
    "    \"errors\": [],\n",
    "    \"modelVersion\": \"2021-06-01\"\n",
    "    }\n",
    "}"
   ]
  }
 ],
 "metadata": {
  "language_info": {
   "name": "python"
  }
 },
 "nbformat": 4,
 "nbformat_minor": 2
}
