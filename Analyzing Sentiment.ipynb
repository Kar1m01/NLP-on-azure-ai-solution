{
 "cells": [
  {
   "cell_type": "markdown",
   "metadata": {},
   "source": [
    "Sentiment analysis is basically identifying positive or negative words or expression in a text to add more context after extracting key phrases."
   ]
  },
  {
   "cell_type": "markdown",
   "metadata": {},
   "source": [
    "Example:\n",
    "\n",
    "- Evaluating reviews on a product or a movie\n",
    "- For customer service scenarios, you can prioritize the tickets by their sentiment\n",
    "- PG segmentation"
   ]
  },
  {
   "cell_type": "markdown",
   "metadata": {},
   "source": [
    "**Input code**\n"
   ]
  },
  {
   "cell_type": "code",
   "execution_count": null,
   "metadata": {},
   "outputs": [],
   "source": [
    "{\n",
    "  \"kind\": \"SentimentAnalysis\",\n",
    "  \"parameters\": {\n",
    "    \"modelVersion\": \"latest\"\n",
    "  },\n",
    "  \"analysisInput\": {\n",
    "    \"documents\": [\n",
    "      {\n",
    "        \"id\": \"1\",\n",
    "        \"language\": \"en\",\n",
    "        \"text\": \"Good morning!\"\n",
    "      }\n",
    "    ]\n",
    "  }\n",
    "}"
   ]
  },
  {
   "cell_type": "markdown",
   "metadata": {},
   "source": [
    "**output code**\n"
   ]
  },
  {
   "cell_type": "code",
   "execution_count": null,
   "metadata": {},
   "outputs": [],
   "source": [
    "{\n",
    "  \"kind\": \"SentimentAnalysisResults\",\n",
    "  \"results\": {\n",
    "    \"documents\": [\n",
    "      {\n",
    "        \"id\": \"1\",\n",
    "        \"sentiment\": \"positive\",\n",
    "        \"confidenceScores\": {\n",
    "          \"positive\": 0.89,\n",
    "          \"neutral\": 0.1,\n",
    "          \"negative\": 0.01\n",
    "        },\n",
    "        \"sentences\": [\n",
    "          {\n",
    "            \"sentiment\": \"positive\",\n",
    "            \"confidenceScores\": {\n",
    "              \"positive\": 0.89,\n",
    "              \"neutral\": 0.1,\n",
    "              \"negative\": 0.01\n",
    "            },\n",
    "            \"offset\": 0,\n",
    "            \"length\": 13,\n",
    "            \"text\": \"Good morning!\"\n",
    "          }\n",
    "        ],\n",
    "        \"warnings\": []\n",
    "      }\n",
    "    ],\n",
    "    \"errors\": [],\n",
    "    \"modelVersion\": \"2022-11-01\"\n",
    "  }\n",
    "}"
   ]
  },
  {
   "cell_type": "markdown",
   "metadata": {},
   "source": [
    "The calculations is based on 3 factors positive, neutral and negative (from 0 to 1)\n",
    "\n",
    "Possible outcomes:\n",
    "\n",
    "- Neutral document = Neutral outcome\n",
    "- Positive + Neutral = Positive outcome\n",
    "- Positive + Negative = Mixed outcome"
   ]
  },
  {
   "cell_type": "markdown",
   "metadata": {},
   "source": []
  }
 ],
 "metadata": {
  "language_info": {
   "name": "python"
  }
 },
 "nbformat": 4,
 "nbformat_minor": 2
}
