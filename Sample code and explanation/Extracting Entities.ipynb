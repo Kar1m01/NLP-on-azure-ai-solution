{
 "cells": [
  {
   "cell_type": "markdown",
   "metadata": {},
   "source": [
    "**Extracting Entities**\n",
    "\n",
    "Extracting entities can be useful to add to the context alongside key phrases and sentiment analysis."
   ]
  },
  {
   "cell_type": "markdown",
   "metadata": {},
   "source": [
    "Named Entity recognition divides the text into categories and sub-categories:\n",
    "\n",
    "- Person\n",
    "- Location\n",
    "- Date \n",
    "- Organization\n",
    "- etc.."
   ]
  },
  {
   "cell_type": "markdown",
   "metadata": {},
   "source": [
    "**Input code**"
   ]
  },
  {
   "cell_type": "code",
   "execution_count": null,
   "metadata": {},
   "outputs": [],
   "source": [
    "{\n",
    "  \"kind\": \"EntityRecognition\",\n",
    "  \"parameters\": {\n",
    "    \"modelVersion\": \"latest\"\n",
    "  },\n",
    "  \"analysisInput\": {\n",
    "    \"documents\": [\n",
    "      {\n",
    "        \"id\": \"1\",\n",
    "        \"language\": \"en\",\n",
    "        \"text\": \"Joe went to London on Saturday\"\n",
    "      }\n",
    "    ]\n",
    "  }\n",
    "}"
   ]
  },
  {
   "cell_type": "markdown",
   "metadata": {},
   "source": [
    "**Output code**"
   ]
  },
  {
   "cell_type": "code",
   "execution_count": null,
   "metadata": {},
   "outputs": [],
   "source": [
    "{\n",
    "    \"kind\": \"EntityRecognitionResults\",\n",
    "     \"results\": {\n",
    "          \"documents\":[\n",
    "              {\n",
    "                  \"entities\":[\n",
    "                  {\n",
    "                    \"text\":\"Joe\",\n",
    "                    \"category\":\"Person\",\n",
    "                    \"offset\":0,\n",
    "                    \"length\":3,\n",
    "                    \"confidenceScore\":0.62\n",
    "                  },\n",
    "                  {\n",
    "                    \"text\":\"London\",\n",
    "                    \"category\":\"Location\",\n",
    "                    \"subcategory\":\"GPE\",\n",
    "                    \"offset\":12,\n",
    "                    \"length\":6,\n",
    "                    \"confidenceScore\":0.88\n",
    "                  },\n",
    "                  {\n",
    "                    \"text\":\"Saturday\",\n",
    "                    \"category\":\"DateTime\",\n",
    "                    \"subcategory\":\"Date\",\n",
    "                    \"offset\":22,\n",
    "                    \"length\":8,\n",
    "                    \"confidenceScore\":0.8\n",
    "                  }\n",
    "                ],\n",
    "                \"id\":\"1\",\n",
    "                \"warnings\":[]\n",
    "              }\n",
    "          ],\n",
    "          \"errors\":[],\n",
    "          \"modelVersion\":\"2021-01-15\"\n",
    "    }\n",
    "}"
   ]
  },
  {
   "cell_type": "markdown",
   "metadata": {},
   "source": [
    "**Linked Entities**\n",
    "\n",
    "Sometimes a single word can relate to different entities, for example, a text like \"I love the beetles\" can relate to the insects or the famous VW cars. We can link entities here so we can make sure the context is not vague or ambigious.\n",
    "\n",
    "Applied Example:\n",
    "\n",
    "\"The beetles were so famous in the 70s\": https://en.wikipedia.org/wiki/Volkswagen_Beetle (Linked to VW Beetle)\n",
    "\"Beetles have 6 limbs\": https://en.wikipedia.org/wiki/Beetle (linked to Beetle insects)"
   ]
  },
  {
   "cell_type": "markdown",
   "metadata": {},
   "source": [
    "**Input Code**"
   ]
  },
  {
   "cell_type": "code",
   "execution_count": null,
   "metadata": {},
   "outputs": [],
   "source": [
    "{\n",
    "  \"kind\": \"EntityLinking\",\n",
    "  \"parameters\": {\n",
    "    \"modelVersion\": \"latest\"\n",
    "  },\n",
    "  \"analysisInput\": {\n",
    "    \"documents\": [\n",
    "      {\n",
    "        \"id\": \"1\",\n",
    "        \"language\": \"en\",\n",
    "        \"text\": \"I saw a 1970 beetle\"\n",
    "      }\n",
    "    ]\n",
    "  }\n",
    "}"
   ]
  },
  {
   "cell_type": "markdown",
   "metadata": {},
   "source": [
    "**Output code**"
   ]
  },
  {
   "cell_type": "code",
   "execution_count": null,
   "metadata": {},
   "outputs": [],
   "source": [
    "{\n",
    "  \"kind\": \"EntityLinkingResults\",\n",
    "  \"results\": {\n",
    "    \"documents\": [\n",
    "      {\n",
    "        \"id\": \"1\",\n",
    "        \"entities\": [\n",
    "          {\n",
    "            \"bingId\": \"89253af3-5b63-e620-9227-f839138139f6\",\n",
    "            \"name\": \"Beetle\",\n",
    "            \"matches\": [\n",
    "              {\n",
    "                \"text\": \"beetle\",\n",
    "                \"offset\": 6,\n",
    "                \"length\": 5,\n",
    "                \"confidenceScore\": 0.01\n",
    "              }\n",
    "            ],\n",
    "            \"language\": \"en\",\n",
    "            \"id\": \"Beetle\",\n",
    "            \"url\": \"https://en.wikipedia.org/wiki/Volkswagen_Beetle\",\n",
    "            \"dataSource\": \"Wikipedia\"\n",
    "          }\n",
    "        ],\n",
    "        \"warnings\": []\n",
    "      }\n",
    "    ],\n",
    "    \"errors\": [],\n",
    "    \"modelVersion\": \"2021-06-01\"\n",
    "  }\n",
    "}"
   ]
  },
  {
   "cell_type": "markdown",
   "metadata": {},
   "source": []
  }
 ],
 "metadata": {
  "kernelspec": {
   "display_name": "Python 3",
   "language": "python",
   "name": "python3"
  },
  "language_info": {
   "name": "python",
   "version": "3.11.9"
  }
 },
 "nbformat": 4,
 "nbformat_minor": 2
}
